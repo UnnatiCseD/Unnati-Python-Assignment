{
 "cells": [
  {
   "cell_type": "markdown",
   "id": "63f2ce17",
   "metadata": {},
   "source": [
    "# Even Or Odd"
   ]
  },
  {
   "cell_type": "code",
   "execution_count": 3,
   "id": "52d98328",
   "metadata": {},
   "outputs": [
    {
     "name": "stdout",
     "output_type": "stream",
     "text": [
      "Enter a number: 5\n",
      "The number is odd.\n"
     ]
    }
   ],
   "source": [
    "a = int(input(\"Enter a number: \"))\n",
    "if a%2==0:\n",
    "    print(\"The number is even.\")\n",
    "else:\n",
    "    print(\"The number is odd.\")"
   ]
  },
  {
   "cell_type": "markdown",
   "id": "d86c7f3d",
   "metadata": {},
   "source": [
    "# Positive Or Negative Number"
   ]
  },
  {
   "cell_type": "code",
   "execution_count": 4,
   "id": "77cf8c3c",
   "metadata": {},
   "outputs": [
    {
     "name": "stdout",
     "output_type": "stream",
     "text": [
      "Enter a number: -23\n",
      "The number is negative.\n"
     ]
    }
   ],
   "source": [
    "a = int(input(\"Enter a number: \"))\n",
    "if a<0:\n",
    "    print(\"The number is negative.\")\n",
    "elif a==0:\n",
    "    print(\"The number is neither positive or negative.\")\n",
    "else:\n",
    "    print(\"The number is positive.\")"
   ]
  },
  {
   "cell_type": "markdown",
   "id": "513650e7",
   "metadata": {},
   "source": [
    "# Prime Number "
   ]
  },
  {
   "cell_type": "code",
   "execution_count": 5,
   "id": "916b04be",
   "metadata": {},
   "outputs": [
    {
     "name": "stdout",
     "output_type": "stream",
     "text": [
      "Enter a number: 374\n",
      "374 is not a prime number.\n"
     ]
    }
   ],
   "source": [
    "a = int(input(\"Enter a number: \"))\n",
    "if a>1:\n",
    "    for i in range(2, int(a/2)+1):\n",
    "        if a%i==0:\n",
    "            print(a, \"is not a prime number.\")\n",
    "            break\n",
    "        else:\n",
    "            print(a, \"is a prime number.\")\n",
    "else:\n",
    "    print(a, \"is not a prime number.\")"
   ]
  },
  {
   "cell_type": "markdown",
   "id": "0af3874d",
   "metadata": {},
   "source": [
    "# Palindrome"
   ]
  },
  {
   "cell_type": "code",
   "execution_count": 6,
   "id": "8700c5eb",
   "metadata": {},
   "outputs": [
    {
     "name": "stdout",
     "output_type": "stream",
     "text": [
      "Enter a word: level\n",
      "level is a palindrome.\n"
     ]
    }
   ],
   "source": [
    "word = input(\"Enter a word: \")\n",
    "word = word.lower()\n",
    "word1 = word[::-1]\n",
    "if (word==word1):\n",
    "    print(word, \"is a palindrome.\")\n",
    "else:\n",
    "    print(word, \"is not a palindrome.\")"
   ]
  },
  {
   "cell_type": "markdown",
   "id": "d9602cec",
   "metadata": {},
   "source": [
    "# Sum Of Two Numbers"
   ]
  },
  {
   "cell_type": "code",
   "execution_count": 7,
   "id": "95d9e224",
   "metadata": {},
   "outputs": [
    {
     "name": "stdout",
     "output_type": "stream",
     "text": [
      "Enter the first number: 6\n",
      "Enter the second number: 9\n",
      "Sum of 6 and 9 is 15 .\n"
     ]
    }
   ],
   "source": [
    "a = int(input(\"Enter the first number: \"))\n",
    "b = int(input(\"Enter the second number: \"))\n",
    "sum = a+b\n",
    "print(\"Sum of\", a, \"and\", b, \"is\", sum, \".\")"
   ]
  },
  {
   "cell_type": "markdown",
   "id": "0a181ae0",
   "metadata": {},
   "source": [
    "# Sum Of Two Numbers Using Function"
   ]
  },
  {
   "cell_type": "code",
   "execution_count": 8,
   "id": "bdb943ca",
   "metadata": {},
   "outputs": [
    {
     "name": "stdout",
     "output_type": "stream",
     "text": [
      "Enter the first number :5\n",
      "Enter the second number : 7\n",
      "Sum of 5 and 7 is 12 .\n"
     ]
    }
   ],
   "source": [
    "def sum(x,y):\n",
    "    return x+y\n",
    "a = int(input(\"Enter the first number :\"))\n",
    "b = int(input(\"Enter the second number : \"))\n",
    "c = sum(a,b)\n",
    "print(\"Sum of\", a,\"and\", b,\"is\", c, \".\")"
   ]
  },
  {
   "cell_type": "markdown",
   "id": "2517b0f9",
   "metadata": {},
   "source": [
    "# Maximum Of Two Numbers"
   ]
  },
  {
   "cell_type": "code",
   "execution_count": 9,
   "id": "0bbbc122",
   "metadata": {},
   "outputs": [
    {
     "name": "stdout",
     "output_type": "stream",
     "text": [
      "Enter the first number: 342\n",
      "Enter the second number: 478\n",
      "The maximum of the two numbers is 478\n"
     ]
    }
   ],
   "source": [
    "def max(a,b):\n",
    "    if a>=b:\n",
    "        return a\n",
    "    else:\n",
    "        return b\n",
    "a = int(input(\"Enter the first number: \"))\n",
    "b = int(input(\"Enter the second number: \"))\n",
    "print(\"The maximum of the two numbers is\", max(a,b))"
   ]
  },
  {
   "cell_type": "markdown",
   "id": "8bb494f2",
   "metadata": {},
   "source": [
    "# Minimum Of Two Numbers"
   ]
  },
  {
   "cell_type": "code",
   "execution_count": 10,
   "id": "1968881c",
   "metadata": {},
   "outputs": [
    {
     "name": "stdout",
     "output_type": "stream",
     "text": [
      "Enter the first number: 743\n",
      "Enter the second number: 372\n",
      "The minimum of two numbers is 372\n"
     ]
    }
   ],
   "source": [
    "def min(a,b):\n",
    "    if a<=b:\n",
    "        return a\n",
    "    else:\n",
    "        return b\n",
    "a = int(input(\"Enter the first number: \"))\n",
    "b = int(input(\"Enter the second number: \"))\n",
    "print(\"The minimum of two numbers is\", min(a,b))"
   ]
  },
  {
   "cell_type": "markdown",
   "id": "5e552979",
   "metadata": {},
   "source": [
    "# Fibonacci Series "
   ]
  },
  {
   "cell_type": "code",
   "execution_count": 11,
   "id": "694160e6",
   "metadata": {},
   "outputs": [
    {
     "name": "stdout",
     "output_type": "stream",
     "text": [
      "Enter the Fibonacci secquence length: 12\n",
      "The Fibonacci Series with 12 term is: \n",
      "1 2 3 5 8 13 21 34 55 89 "
     ]
    }
   ],
   "source": [
    "num = int(input(\"Enter the Fibonacci secquence length: \"))\n",
    "firstTerm = 0\n",
    "secondTerm = 1\n",
    "print(\"The Fibonacci Series with\", num, \"term is: \")\n",
    "for i in range(2, num):\n",
    "    curTerm = firstTerm+secondTerm\n",
    "    print(curTerm, end=\" \")\n",
    "    firstTerm = secondTerm\n",
    "    secondTerm = curTerm"
   ]
  },
  {
   "cell_type": "markdown",
   "id": "7b0a6a9c",
   "metadata": {},
   "source": [
    "# Factorial"
   ]
  },
  {
   "cell_type": "code",
   "execution_count": 12,
   "id": "84a00ed8",
   "metadata": {},
   "outputs": [
    {
     "name": "stdout",
     "output_type": "stream",
     "text": [
      "Enter the value of N: 6\n",
      "Enter the value of R(R cannot be negative or greater than N): 5\n",
      "Factorial of 6 is:  720\n",
      "6 C 5 = 6.0\n"
     ]
    }
   ],
   "source": [
    "def fact(num):\n",
    "    if num==0:\n",
    "        return 1\n",
    "    else:\n",
    "        return num*fact(num-1)\n",
    "n = int(input(\"Enter the value of N: \"))\n",
    "r = int(input(\"Enter the value of R(R cannot be negative or greater than N): \"))\n",
    "print(\"Factorial of\", n, \"is: \", fact(n))\n",
    "nCr = fact(n)/(fact(r)*fact(n-r))\n",
    "print(n, \"C\", r, \"=\", nCr)"
   ]
  },
  {
   "cell_type": "markdown",
   "id": "3be8f8d5",
   "metadata": {},
   "source": [
    "# GCD Of Two Numbers"
   ]
  },
  {
   "cell_type": "code",
   "execution_count": 13,
   "id": "0056388a",
   "metadata": {},
   "outputs": [
    {
     "name": "stdout",
     "output_type": "stream",
     "text": [
      "Enter the first number: 34\n",
      "Enter the second number: 24\n",
      "GCD of 34 and 24 is 2\n"
     ]
    }
   ],
   "source": [
    "a = int(input(\"Enter the first number: \"))\n",
    "b = int(input(\"Enter the second number: \"))\n",
    "gcd = 1\n",
    "for i in range(1, min(a, b)):\n",
    "    if a%i==0 and b%i==0:\n",
    "        gcd = i\n",
    "print(\"GCD of\", a, \"and\", b, \"is\", gcd)"
   ]
  },
  {
   "cell_type": "markdown",
   "id": "633f7f47",
   "metadata": {},
   "source": [
    "# Swap Of Two Numbers"
   ]
  },
  {
   "cell_type": "code",
   "execution_count": 14,
   "id": "9e74efd8",
   "metadata": {},
   "outputs": [
    {
     "name": "stdout",
     "output_type": "stream",
     "text": [
      "Enter the first number: 3\n",
      "Enter the second number: 6\n",
      "Before swapping: \n",
      "Value of a:  3  and b:  6\n",
      "After swapping: \n",
      "Value of a:  6  and b:  3\n"
     ]
    }
   ],
   "source": [
    "a = int(input(\"Enter the first number: \"))\n",
    "b = int(input(\"Enter the second number: \"))\n",
    "print (\"Before swapping: \")\n",
    "print(\"Value of a: \", a, \" and b: \", b)\n",
    "a, b = b, a\n",
    "print (\"After swapping: \")\n",
    "print(\"Value of a: \", a, \" and b: \", b)"
   ]
  },
  {
   "cell_type": "markdown",
   "id": "24a760cd",
   "metadata": {},
   "source": [
    "# Reverse Number In String"
   ]
  },
  {
   "cell_type": "code",
   "execution_count": 15,
   "id": "324cbb4d",
   "metadata": {},
   "outputs": [
    {
     "name": "stdout",
     "output_type": "stream",
     "text": [
      "Enter a number: 784353474\n",
      "Reversed Number: 474353487\n"
     ]
    }
   ],
   "source": [
    "a = int(input(\"Enter a number: \"))\n",
    "reversed_num = 0\n",
    "while a!=0:\n",
    "    digit = a%10\n",
    "    reversed_num = reversed_num*10+digit\n",
    "    a//=10\n",
    "print(\"Reversed Number: \" + str(reversed_num))"
   ]
  },
  {
   "cell_type": "markdown",
   "id": "504998de",
   "metadata": {},
   "source": [
    "# Guess Number Using Random"
   ]
  },
  {
   "cell_type": "code",
   "execution_count": 2,
   "id": "90ee6b6c",
   "metadata": {},
   "outputs": [
    {
     "name": "stdout",
     "output_type": "stream",
     "text": [
      "Enter the number: 65\n",
      "The number is entered is higher.\n",
      "Enter the number: 45\n",
      "The number is entered is higher.\n",
      "Enter the number: 32\n",
      "The number is entered is higher.\n",
      "Enter the number: 21\n",
      "The number entered is correct.\n"
     ]
    }
   ],
   "source": [
    "import random\n",
    "a = random.randint(1,100)\n",
    "while True:\n",
    "    b = int(input(\"Enter the number: \"))\n",
    "    if a<b:\n",
    "        print(\"The number is entered is higher.\")\n",
    "    elif a==b:\n",
    "        print(\"The number entered is correct.\")\n",
    "        break\n",
    "    else:\n",
    "        print(\"The number entered is lower.\")\n",
    "    "
   ]
  }
 ],
 "metadata": {
  "kernelspec": {
   "display_name": "Python 3 (ipykernel)",
   "language": "python",
   "name": "python3"
  },
  "language_info": {
   "codemirror_mode": {
    "name": "ipython",
    "version": 3
   },
   "file_extension": ".py",
   "mimetype": "text/x-python",
   "name": "python",
   "nbconvert_exporter": "python",
   "pygments_lexer": "ipython3",
   "version": "3.11.5"
  }
 },
 "nbformat": 4,
 "nbformat_minor": 5
}
